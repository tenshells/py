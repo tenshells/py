{
 "cells": [
  {
   "cell_type": "code",
   "execution_count": 1,
   "metadata": {},
   "outputs": [],
   "source": [
    "import sqlite3\n",
    "import csv\n",
    "dbname = \"C:\\\\codes\\\\cpp\\\\ZBolt\\\\tpch-dbgen\\\\data\\\\\""
   ]
  },
  {
   "cell_type": "code",
   "execution_count": 28,
   "metadata": {},
   "outputs": [
    {
     "name": "stdout",
     "output_type": "stream",
     "text": [
      "0|AFRICA|lar deposits. blithely final packages cajole. regular waters are final requests. regular accounts are according to |\n",
      "\n"
     ]
    }
   ],
   "source": [
    "with open(dbname+\"region.tbl\") as csvFile:\n",
    "    print(csvFile.readline())"
   ]
  },
  {
   "cell_type": "code",
   "execution_count": 3,
   "metadata": {},
   "outputs": [],
   "source": [
    "customer_col = \"custKey name address nationKey phone acctBal mktSeg comment\".split()\n",
    "customer_types = \"int varchar(50) varchar(50) int varchar(15) float(2) varchar(10) varchar(50)\".split(' ')\n",
    "orders_col = \"orderKey custKey orderStatus totalPrice orderDate orderPriority clerk shipPriority comment\".split()\n",
    "orders_types = \"int int varchar(1) float(2) varchar(12) varchar(10) varchar(15) int varchar(50)\".split()\n",
    "lineItems_col = \"orderKey partKey suppKey lineNumber quantity exPrice discount tax returnFlag lineStatus shipDate commitDate receiptDate shipInstruct shipMode comment\".split()\n",
    "linetItems_types = \"int int int int int float(2) float(2) float(2) varchar(1) varchar(1) varchar(12) varchar(12) varchar(12) varchar(25) varchar(10) varchar(40)\".split()\n",
    "supplier_col = \"suppKey name address nationKey phone acctBal comment\".split(' ')\n",
    "supplier_types = \"int varchar(25) varchar(50) int varchar(12) float(2) varchar(60)\".split(' ')\n",
    "nation_col = \"nationKey name regionKey comment\".split(' ')\n",
    "nation_types = \"int varchar(15) int varchar(25)\".split(' ')\n",
    "region_col = \"regionKey name comment\".split(' ')\n",
    "region_types = \"int varchar(10) varchar(40)\".split(' ')"
   ]
  },
  {
   "cell_type": "code",
   "execution_count": 4,
   "metadata": {},
   "outputs": [],
   "source": [
    "customer = [customer_col,customer_types,dbname+\"customer.tbl\",\"Customer\"]\n",
    "orders = [orders_col,orders_types,dbname+\"orders.tbl\",\"Orders\"]\n",
    "lineItem = [lineItems_col, linetItems_types, dbname+\"lineitem.tbl\",\"LineItem\"]\n",
    "supplier = [supplier_col,supplier_types,dbname+\"supplier.tbl\",\"Supplier\"]\n",
    "nation = [nation_col, nation_types, dbname+\"nation.tbl\",\"Nation\"]\n",
    "region = [region_col, region_types, dbname+\"region.tbl\",\"Region\"]\n",
    "\n",
    "ourTables = [customer,orders,lineItem,supplier,nation,region]"
   ]
  },
  {
   "cell_type": "code",
   "execution_count": 5,
   "metadata": {},
   "outputs": [],
   "source": [
    "def createTable(column_names,column_types,tableName,cursor):\n",
    "    # Create the 'AbelsTable' table\n",
    "    create_table_query = f\"CREATE TABLE IF NOT EXISTS {tableName} (\"\n",
    "    for i in range(len(column_names)):\n",
    "        create_table_query += f\"{column_names[i]} {column_types[i]}\"\n",
    "        if i < len(column_names) - 1:\n",
    "            create_table_query += \",\"\n",
    "\n",
    "    create_table_query += \")\"\n",
    "    print(f\"this is create query {create_table_query}\")\n",
    "    cursor.execute(create_table_query)\n",
    "    return\n",
    "\n",
    "def updateTable(tableName,cursor,filename,column_types):\n",
    "    entries=0\n",
    "    with open(filename) as file:\n",
    "        reader = csv.reader(file, delimiter='|')\n",
    "            # Insert the CSV file data into the SQLite table\n",
    "\n",
    "        for row in reader:\n",
    "            qb=\"\"\n",
    "            row.pop()\n",
    "            for valueIndex in range(len(row)):\n",
    "                if(column_types[valueIndex][0]=='v'):\n",
    "                    qb=f\"{qb} '{row[valueIndex]}',\"\n",
    "                else:\n",
    "                    qb=f'{qb} {row[valueIndex]},'\n",
    "            \n",
    "            # print(f\"qb is rn {qb}\")\n",
    "            query = f\"INSERT INTO {tableName} VALUES ({qb.rstrip().rstrip(',')})\"\n",
    "            # print(\"This is insert query : \"+query)\n",
    "            cursor.execute(query+';')\n",
    "            \n",
    "            entries += 1\n",
    "            # if entries == 1:\n",
    "            #     break\n",
    "    print(f\"Added {entries:,} items from {filename.split('//')[-1]}\")\n",
    "    return\n",
    "\n",
    "def createAndUpdateTable(cursor,tableName,column_names,column_types, filename):\n",
    "    # print(f\"Adding {len(column_names)} column names with {len(column_types)} column types in {tableName}\")\n",
    "    createTable(column_names,column_types, tableName,cursor)\n",
    "    updateTable(tableName,cursor,filename,column_types)\n",
    "\n",
    "def parseTable(cursor,table):\n",
    "    createAndUpdateTable(cursor,table[3],table[0],table[1],table[2])\n",
    "\n",
    "\n",
    "def noOfEntries(cursor,tableName):\n",
    "    cno=0\n",
    "    for i in cursor.execute(\"SELECT COUNT(*) FROM \"+tableName):\n",
    "        cno=i\n",
    "    sbuild = f\"{tableName} has {cno[0]} values\"\n",
    "    return sbuild"
   ]
  },
  {
   "cell_type": "code",
   "execution_count": 6,
   "metadata": {},
   "outputs": [
    {
     "name": "stdout",
     "output_type": "stream",
     "text": [
      "this is create query CREATE TABLE IF NOT EXISTS Customer (custKey int,name varchar(50),address varchar(50),nationKey int,phone varchar(15),acctBal float(2),mktSeg varchar(10),comment varchar(50))\n",
      "Added 150,000 items from C:\\codes\\cpp\\ZBolt\\tpch-dbgen\\data\\customer.tbl\n",
      "this is create query CREATE TABLE IF NOT EXISTS Orders (orderKey int,custKey int,orderStatus varchar(1),totalPrice float(2),orderDate varchar(12),orderPriority varchar(10),clerk varchar(15),shipPriority int,comment varchar(50))\n",
      "Added 1,500,000 items from C:\\codes\\cpp\\ZBolt\\tpch-dbgen\\data\\orders.tbl\n",
      "this is create query CREATE TABLE IF NOT EXISTS LineItem (orderKey int,partKey int,suppKey int,lineNumber int,quantity int,exPrice float(2),discount float(2),tax float(2),returnFlag varchar(1),lineStatus varchar(1),shipDate varchar(12),commitDate varchar(12),receiptDate varchar(12),shipInstruct varchar(25),shipMode varchar(10),comment varchar(40))\n",
      "Added 6,001,215 items from C:\\codes\\cpp\\ZBolt\\tpch-dbgen\\data\\lineitem.tbl\n",
      "this is create query CREATE TABLE IF NOT EXISTS Supplier (suppKey int,name varchar(25),address varchar(50),nationKey int,phone varchar(12),acctBal float(2),comment varchar(60))\n",
      "Added 10,000 items from C:\\codes\\cpp\\ZBolt\\tpch-dbgen\\data\\supplier.tbl\n",
      "this is create query CREATE TABLE IF NOT EXISTS Nation (nationKey int,name varchar(15),regionKey int,comment varchar(25))\n",
      "Added 25 items from C:\\codes\\cpp\\ZBolt\\tpch-dbgen\\data\\nation.tbl\n",
      "this is create query CREATE TABLE IF NOT EXISTS Region (regionKey int,name varchar(10),comment varchar(40))\n",
      "Added 5 items from C:\\codes\\cpp\\ZBolt\\tpch-dbgen\\data\\region.tbl\n"
     ]
    }
   ],
   "source": [
    "import sqlite3\n",
    "\n",
    "\n",
    "# Connect to the SQLite database\n",
    "conn = sqlite3.connect('local_database2.db')\n",
    "cursor = conn.cursor()\n",
    "\n",
    "for table in ourTables:\n",
    "    parseTable(cursor,table)\n",
    "\n",
    "# Commit the changes to the database\n",
    "conn.commit()\n",
    "# Close the database connection\n",
    "conn.close()"
   ]
  },
  {
   "cell_type": "code",
   "execution_count": 7,
   "metadata": {},
   "outputs": [
    {
     "name": "stdout",
     "output_type": "stream",
     "text": [
      "Customer has 150000 values\n",
      "['custKey', 'name', 'address', 'nationKey', 'phone', 'acctBal', 'mktSeg', 'comment']\n",
      "Orders has 1500000 values\n",
      "['orderKey', 'custKey', 'orderStatus', 'totalPrice', 'orderDate', 'orderPriority', 'clerk', 'shipPriority', 'comment']\n",
      "LineItem has 6001215 values\n",
      "['orderKey', 'partKey', 'suppKey', 'lineNumber', 'quantity', 'exPrice', 'discount', 'tax', 'returnFlag', 'lineStatus', 'shipDate', 'commitDate', 'receiptDate', 'shipInstruct', 'shipMode', 'comment']\n",
      "Supplier has 10000 values\n",
      "['suppKey', 'name', 'address', 'nationKey', 'phone', 'acctBal', 'comment']\n",
      "Nation has 25 values\n",
      "['nationKey', 'name', 'regionKey', 'comment']\n",
      "Region has 5 values\n",
      "['regionKey', 'name', 'comment']\n"
     ]
    }
   ],
   "source": [
    "\n",
    "conn = sqlite3.connect('local_database2.db')\n",
    "cursor = conn.cursor()\n",
    "\n",
    "\n",
    "for table in ourTables:\n",
    "    print(noOfEntries(cursor,table[3]))\n",
    "    print(table[0])\n",
    "\n",
    "q5select = \"SELECT n.name,sum(l.exPrice * (1-l.discount)) as revenue \"\n",
    "q5from = \"FROM Customer c, Orders o, LineItem l, Supplier s, Nation n, Region r \"\n",
    "q5where = \"WHERE c.custKey=o.custKey and l.orderKey=o.orderKey and l.suppKey=s.suppKey and c.nationKey=s.nationKey and s.nationKey=n.nationKey and n.regionKey=r.regionKey and r.name='ASIA' and o.orderDate>='1994-01-01' and o.orderDate<'1995-01-01' \"\n",
    "q5groupBy = \"GROUP BY n.name \"\n",
    "q5orderBy = \"ORDER BY revenue desc; \"\n",
    "\n",
    "q5where2 = \"WHERE c.custKey=o.custKey and l.orderKey=o.orderKey and l.suppKey=s.suppKey and c.nationKey=n.nationKey and s.nationKey=n.nationKey and n.regionKey=r.regionKey and r.name='ASIA' and o.orderDate>='1994-01-01' and o.orderDate<'1995-01-01' \"\n",
    "\n",
    "# print(\"------------query is \")\n",
    "# print(q5select)\n",
    "# print(q5from)\n",
    "# print(q5where)\n",
    "# print(q5groupBy)\n",
    "# print(q5orderBy)\n",
    "\n",
    "\n",
    "\n"
   ]
  },
  {
   "cell_type": "code",
   "execution_count": 8,
   "metadata": {},
   "outputs": [
    {
     "name": "stdout",
     "output_type": "stream",
     "text": [
      "Query is SELECT n.name,sum(l.exPrice * (1-l.discount)) as revenue \n",
      "FROM Customer c, Orders o, LineItem l, Supplier s, Nation n, Region r\n",
      "WHERE c.custKey=o.custKey and l.orderKey=o.orderKey and l.suppKey=s.suppKey and c.nationKey=s.nationKey and s.nationKey=n.nationKey and n.regionKey=r.regionKey and r.name='ASIA' and o.orderDate>='1994-01-01' and o.orderDate<'1995-01-01'\n",
      "GROUP BY n.name \n",
      "ORDER BY revenue desc \n",
      "\n",
      "('INDONESIA', 55502041.16970006)\n",
      "('VIETNAM', 55295086.99670001)\n",
      "('CHINA', 53724494.25659997)\n",
      "('INDIA', 52035512.000199996)\n",
      "('JAPAN', 45410175.69539997)\n"
     ]
    }
   ],
   "source": [
    "q5 = q5select+q5from+q5where+q5groupBy+q5orderBy\n",
    "print(f\"Query is {q5}\")\n",
    "qresult = cursor.execute(q5)\n",
    "for result in qresult:\n",
    "    print(result)"
   ]
  },
  {
   "cell_type": "code",
   "execution_count": 9,
   "metadata": {},
   "outputs": [
    {
     "name": "stdout",
     "output_type": "stream",
     "text": [
      "Query is SELECT n.name,sum(l.exPrice * (1-l.discount)) as revenue \n",
      "FROM Customer c, Orders o, LineItem l, Supplier s, Nation n, Region r\n",
      "WHERE c.custKey=o.custKey and l.orderKey=o.orderKey and l.suppKey=s.suppKey and c.nationKey=n.nationKey and s.nationKey=n.nationKey and n.regionKey=r.regionKey and r.name='ASIA' and o.orderDate>='1994-01-01' and o.orderDate<'1995-01-01'\n",
      "GROUP BY n.name \n",
      "ORDER BY revenue desc \n",
      "\n",
      "('INDONESIA', 55502041.16970006)\n",
      "('VIETNAM', 55295086.99670001)\n",
      "('CHINA', 53724494.25659997)\n",
      "('INDIA', 52035512.000199996)\n",
      "('JAPAN', 45410175.69539997)\n"
     ]
    }
   ],
   "source": [
    "q52 = q5select+q5from+q5where2+q5groupBy+q5orderBy\n",
    "print(f\"Query is {q52}\")\n",
    "qresult2 = cursor.execute(q52)\n",
    "for result in qresult2:\n",
    "    print(result)"
   ]
  },
  {
   "cell_type": "code",
   "execution_count": null,
   "metadata": {},
   "outputs": [],
   "source": [
    "conn.close()"
   ]
  },
  {
   "cell_type": "code",
   "execution_count": 27,
   "metadata": {},
   "outputs": [
    {
     "name": "stdout",
     "output_type": "stream",
     "text": [
      "('AFRICA', 0)\n",
      "('AMERICA', 1)\n",
      "('ASIA', 2)\n",
      "('EUROPE', 3)\n",
      "('MIDDLE EAST', 4)\n"
     ]
    }
   ],
   "source": [
    "conn = sqlite3.connect(\"local_database2.db\")\n",
    "cursor = conn.cursor()\n",
    "for i in cursor.execute(\"SELECT r.name,r.regionKey FROM Region r\"):\n",
    "    print(i)\n",
    "conn.close()"
   ]
  },
  {
   "cell_type": "code",
   "execution_count": null,
   "metadata": {},
   "outputs": [],
   "source": [
    "prevSumSet = set()\n",
    "\n",
    "list = takeList()\n"
   ]
  },
  {
   "cell_type": "code",
   "execution_count": null,
   "metadata": {},
   "outputs": [],
   "source": [
    "def takeList():"
   ]
  }
 ],
 "metadata": {
  "kernelspec": {
   "display_name": "Python 3",
   "language": "python",
   "name": "python3"
  },
  "language_info": {
   "codemirror_mode": {
    "name": "ipython",
    "version": 3
   },
   "file_extension": ".py",
   "mimetype": "text/x-python",
   "name": "python",
   "nbconvert_exporter": "python",
   "pygments_lexer": "ipython3",
   "version": "3.11.1"
  }
 },
 "nbformat": 4,
 "nbformat_minor": 2
}
