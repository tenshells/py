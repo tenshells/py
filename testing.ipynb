{
 "cells": [
  {
   "cell_type": "code",
   "execution_count": 7,
   "metadata": {},
   "outputs": [],
   "source": [
    "def isValid(matrix):\n",
    "    \n",
    "    if(not ValidRow(matrix)):\n",
    "        return False\n",
    "    \n",
    "    if(not ValidColumn(matrix)):\n",
    "        return False\n",
    "    \n",
    "    if(not ValidBox(matrix)):\n",
    "        return False\n",
    "    \n",
    "    return True\n",
    "\n",
    "# 123456789\n",
    "# 234567891\n",
    "#\n",
    "\n",
    "def ValidRow(matrix):\n",
    "    for i in matrix:\n",
    "        buffer = set()\n",
    "        for j in i:\n",
    "            obs = len(buffer)\n",
    "            buffer.add(j)\n",
    "            nbs = len(buffer)\n",
    "            if(obs==nbs):\n",
    "                return False\n",
    "    return True     \n",
    "\n",
    "def ValidColumn(matrix):\n",
    "    for i in range(9):\n",
    "        buffer = set()\n",
    "        for j in range(9):\n",
    "            obs = len(buffer)\n",
    "            buffer.add(matrix[j][i])\n",
    "            nbs = len(buffer)\n",
    "            if(obs==nbs):\n",
    "                return False\n",
    "    return True\n",
    "\n",
    "def ValidBox(matrix):\n",
    "    indexr = [0,3,6]\n",
    "    indexc = [0,3,6]\n",
    "    for i in indexr:\n",
    "        for j in indexc:\n",
    "            cr = i\n",
    "            cc = j\n",
    "            \n",
    "            buffer = set()\n",
    "            for k in range(3):\n",
    "                for l in range(3):                  \n",
    "                    obs = len(buffer)\n",
    "                    buffer.add(matrix[cr+k][cc+l])\n",
    "                    nbs = len(buffer)\n",
    "                    if(obs==nbs):\n",
    "                        return False\n",
    "            \n",
    "    return True"
   ]
  },
  {
   "cell_type": "code",
   "execution_count": 14,
   "metadata": {},
   "outputs": [],
   "source": [
    "matrix = [[9, 2, 5, 8, 1, 7, 4, 6, 3],\n",
    " [8, 3, 4, 6, 2, 9, 7, 1, 5],\n",
    " [7, 1, 6, 3, 5, 4, 8, 2, 9],\n",
    " [2, 8, 7, 9, 6, 5, 1, 3, 4],\n",
    " [6, 5, 3, 2, 4, 1, 9, 8, 7],\n",
    " [4, 9, 1, 7, 8, 3, 6, 5, 2],\n",
    " [3, 10, 2, 1, 9, 6, 5, 4, 8],\n",
    " [1, 4, 8, 5, 7, 2, 3, 9, 6],\n",
    " [5, 6, 9, 4, 3, 8, 2, 7, 1]]"
   ]
  },
  {
   "cell_type": "code",
   "execution_count": 15,
   "metadata": {},
   "outputs": [
    {
     "data": {
      "text/plain": [
       "True"
      ]
     },
     "execution_count": 15,
     "metadata": {},
     "output_type": "execute_result"
    }
   ],
   "source": [
    "isValid(matrix)"
   ]
  },
  {
   "cell_type": "code",
   "execution_count": null,
   "metadata": {},
   "outputs": [],
   "source": [
    "import numpy"
   ]
  }
 ],
 "metadata": {
  "kernelspec": {
   "display_name": "Python 3",
   "language": "python",
   "name": "python3"
  },
  "language_info": {
   "codemirror_mode": {
    "name": "ipython",
    "version": 3
   },
   "file_extension": ".py",
   "mimetype": "text/x-python",
   "name": "python",
   "nbconvert_exporter": "python",
   "pygments_lexer": "ipython3",
   "version": "3.11.4"
  },
  "orig_nbformat": 4
 },
 "nbformat": 4,
 "nbformat_minor": 2
}
