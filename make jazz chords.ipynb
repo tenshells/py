{
 "cells": [
  {
   "cell_type": "code",
   "execution_count": 2,
   "metadata": {},
   "outputs": [
    {
     "name": "stdout",
     "output_type": "stream",
     "text": [
      "5\n"
     ]
    }
   ],
   "source": [
    "print(2^7)"
   ]
  },
  {
   "cell_type": "code",
   "execution_count": 9,
   "metadata": {},
   "outputs": [],
   "source": [
    "L = 'CDEFGAB'"
   ]
  },
  {
   "cell_type": "code",
   "execution_count": 5,
   "metadata": {},
   "outputs": [],
   "source": [
    "def splitLetters(s):\n",
    "    ar =[]\n",
    "    for i in s:\n",
    "        ar.append(i)\n",
    "    return ar\n"
   ]
  },
  {
   "cell_type": "code",
   "execution_count": 7,
   "metadata": {},
   "outputs": [
    {
     "data": {
      "text/plain": [
       "['C', 'D', 'E', 'F', 'G', 'A', 'B']"
      ]
     },
     "execution_count": 7,
     "metadata": {},
     "output_type": "execute_result"
    }
   ],
   "source": []
  },
  {
   "cell_type": "code",
   "execution_count": 13,
   "metadata": {},
   "outputs": [],
   "source": [
    "sMajor = ['C', 'D', 'E', 'F', 'G', 'A', 'B']\n",
    "sMinor = ['C', 'D', 'D#', 'F', 'G', 'G#', 'A#']\n",
    "sDorian = ['C', 'D', 'D#', 'F', 'G', 'A', 'A#']"
   ]
  },
  {
   "cell_type": "code",
   "execution_count": 44,
   "metadata": {},
   "outputs": [],
   "source": [
    "c7 = [1,3,5,7]\n",
    "cadd9 = [1,3,5,9]\n",
    "csub9 = [1,3,7,9]\n",
    "csus47 = [1,3,4,7]\n",
    "csus49 = [1,3,4,9]\n",
    "c911 = [1,5,9,11]"
   ]
  },
  {
   "cell_type": "code",
   "execution_count": 62,
   "metadata": {},
   "outputs": [],
   "source": [
    "def applyChord(s,c,root,n):\n",
    "    ans=\"\"\n",
    "    s=s+s+s\n",
    "    root=root-1\n",
    "    for i in range(len(s)):\n",
    "        if(i==root):\n",
    "            for j in c:\n",
    "                if(i+j-1 < len(s)/3):\n",
    "                    ans=ans+s[i+j-1]+str(n)+\" \"\n",
    "                else:\n",
    "                    ans=ans+s[i+j-1]+str(n+1)+\" \"\n",
    "                \n",
    "    return ans\n",
    "        \n",
    "\n"
   ]
  },
  {
   "cell_type": "code",
   "execution_count": 63,
   "metadata": {},
   "outputs": [
    {
     "data": {
      "text/plain": [
       "'G#1 C2 D#2 G2 '"
      ]
     },
     "execution_count": 63,
     "metadata": {},
     "output_type": "execute_result"
    }
   ],
   "source": [
    "applyChord(sMinor,c7,6,1)"
   ]
  },
  {
   "cell_type": "code",
   "execution_count": 64,
   "metadata": {},
   "outputs": [
    {
     "data": {
      "text/plain": [
       "'F2 A2 C3 G3 '"
      ]
     },
     "execution_count": 64,
     "metadata": {},
     "output_type": "execute_result"
    }
   ],
   "source": [
    "applyChord(sMajor,cadd9,4,2)"
   ]
  },
  {
   "cell_type": "code",
   "execution_count": 65,
   "metadata": {},
   "outputs": [
    {
     "data": {
      "text/plain": [
       "'A#3 D4 D#4 C4 '"
      ]
     },
     "execution_count": 65,
     "metadata": {},
     "output_type": "execute_result"
    }
   ],
   "source": [
    "applyChord(sMinor,csus49,7,3)"
   ]
  },
  {
   "cell_type": "code",
   "execution_count": null,
   "metadata": {},
   "outputs": [],
   "source": []
  }
 ],
 "metadata": {
  "kernelspec": {
   "display_name": "Python 3",
   "language": "python",
   "name": "python3"
  },
  "language_info": {
   "codemirror_mode": {
    "name": "ipython",
    "version": 3
   },
   "file_extension": ".py",
   "mimetype": "text/x-python",
   "name": "python",
   "nbconvert_exporter": "python",
   "pygments_lexer": "ipython3",
   "version": "3.11.1"
  },
  "orig_nbformat": 4
 },
 "nbformat": 4,
 "nbformat_minor": 2
}
